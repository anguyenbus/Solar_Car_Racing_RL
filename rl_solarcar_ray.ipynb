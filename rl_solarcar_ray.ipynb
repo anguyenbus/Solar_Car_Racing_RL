{
 "cells": [
  {
   "cell_type": "markdown",
   "metadata": {},
   "source": [
    "# Simulations of Solar Car Racing with Amazon SageMaker\n",
    "\n",
    "---\n",
    "## Introduction\n",
    "\n",
    "Solar car racing refers to competitive races of electric vehicles which are powered by solar energy obtained from solar panels on the surface of the car. The first solar car race was the Tour de Sol in 1985 which led to several similar races in Europe, US and Australia. Such challenges are often entered by universities to develop their students' engineering and technological skills, but many business corporations have entered competitions in the past. A small number of high school teams participate in solar car races designed exclusively for high school students. https://en.wikipedia.org/wiki/Solar_car_racing\n",
    "\n",
    "This is built upon rl_roboschool_ray notebook https://github.com/aws/amazon-sagemaker-examples/blob/master/reinforcement_learning/rl_roboschool_ray/rl_roboschool_ray.ipynb\n",
    "\n",
    "This approach is tested with PPO."
   ]
  },
  {
   "cell_type": "code",
   "execution_count": 1,
   "metadata": {},
   "outputs": [],
   "source": [
    "project_name = 'solarcar'"
   ]
  },
  {
   "cell_type": "markdown",
   "metadata": {},
   "source": [
    "## Pre-requisites \n",
    "\n",
    "### Imports\n",
    "\n",
    "To get started, we'll import the Python libraries we need, set up the environment with a few prerequisites for permissions and configurations."
   ]
  },
  {
   "cell_type": "code",
   "execution_count": 2,
   "metadata": {
    "scrolled": true
   },
   "outputs": [],
   "source": [
    "import sagemaker\n",
    "import boto3\n",
    "import sys\n",
    "import os\n",
    "import glob\n",
    "import re\n",
    "import subprocess\n",
    "import numpy as np\n",
    "from IPython.display import HTML\n",
    "import time\n",
    "from time import gmtime, strftime\n",
    "sys.path.append(\"common\")\n",
    "from misc import get_execution_role, wait_for_s3_object\n",
    "from docker_utils import build_and_push_docker_image\n",
    "from sagemaker.rl import RLEstimator, RLToolkit, RLFramework"
   ]
  },
  {
   "cell_type": "markdown",
   "metadata": {},
   "source": [
    "### Setup S3 bucket\n",
    "\n",
    "Set up the linkage and authentication to the S3 bucket that you want to use for checkpoint and the metadata. "
   ]
  },
  {
   "cell_type": "code",
   "execution_count": 3,
   "metadata": {},
   "outputs": [
    {
     "name": "stdout",
     "output_type": "stream",
     "text": [
      "S3 bucket path: s3://sagemaker-ap-southeast-2-019676274883/\n"
     ]
    }
   ],
   "source": [
    "sage_session = sagemaker.session.Session()\n",
    "s3_bucket = sage_session.default_bucket()  \n",
    "s3_output_path = 's3://{}/'.format(s3_bucket)\n",
    "print(\"S3 bucket path: {}\".format(s3_output_path))"
   ]
  },
  {
   "cell_type": "markdown",
   "metadata": {},
   "source": [
    "### Define Variables \n",
    "\n",
    "We define variables such as the job prefix for the training jobs *and the image path for the container (only when this is BYOC).*"
   ]
  },
  {
   "cell_type": "code",
   "execution_count": 4,
   "metadata": {},
   "outputs": [],
   "source": [
    "# create a descriptive job name \n",
    "job_name_prefix = 'rl-'+ project_name"
   ]
  },
  {
   "cell_type": "markdown",
   "metadata": {},
   "source": [
    "### Configure where training happens\n",
    "\n",
    "You can train your RL training jobs using the SageMaker notebook instance or local notebook instance. In both of these scenarios, you can run the following in either local or SageMaker modes. The local mode uses the SageMaker Python SDK to run your code in a local container before deploying to SageMaker. This can speed up iterative testing and debugging while using the same familiar Python SDK interface. You just need to set `local_mode = True`."
   ]
  },
  {
   "cell_type": "code",
   "execution_count": 5,
   "metadata": {},
   "outputs": [],
   "source": [
    "# run in local_mode on this machine, or as a SageMaker TrainingJob?\n",
    "local_mode = False\n",
    "\n",
    "if local_mode:\n",
    "    instance_type = 'local'\n",
    "else:\n",
    "    # If on SageMaker, pick the instance type, ml.p3.2xlarge is authorized, please contact AWS \n",
    "    instance_type = \"ml.p3.2xlarge\""
   ]
  },
  {
   "cell_type": "markdown",
   "metadata": {},
   "source": [
    "### Create an IAM role\n",
    "\n",
    "Either get the execution role when running from a SageMaker notebook instance `role = sagemaker.get_execution_role()` or, when running from local notebook instance, use utils method `role = get_execution_role()` to create an execution role."
   ]
  },
  {
   "cell_type": "code",
   "execution_count": 6,
   "metadata": {},
   "outputs": [
    {
     "name": "stdout",
     "output_type": "stream",
     "text": [
      "Using IAM role arn: arn:aws:iam::019676274883:role/service-role/AmazonSageMaker-ExecutionRole-20201222T153520\n"
     ]
    }
   ],
   "source": [
    "try:\n",
    "    role = sagemaker.get_execution_role()\n",
    "except:\n",
    "    role = get_execution_role()\n",
    "\n",
    "print(\"Using IAM role arn: {}\".format(role))"
   ]
  },
  {
   "cell_type": "markdown",
   "metadata": {},
   "source": [
    "### Install docker for `local` mode\n",
    "\n",
    "In order to work in `local` mode, you need to have docker installed. When running from you local machine, please make sure that you have docker and docker-compose (for local CPU machines) and nvidia-docker (for local GPU machines) installed. Alternatively, when running from a SageMaker notebook instance, you can simply run the following script to install dependenceis.\n",
    "\n",
    "Note, you can only run a single local notebook at one time."
   ]
  },
  {
   "cell_type": "code",
   "execution_count": 7,
   "metadata": {},
   "outputs": [],
   "source": [
    "# only run from SageMaker notebook instance\n",
    "if local_mode:\n",
    "    !/bin/bash ./common/setup.sh"
   ]
  },
  {
   "cell_type": "markdown",
   "metadata": {},
   "source": [
    "## Build docker container\n",
    "\n",
    "We must build a custom docker container with Roboschool installed.  This takes care of everything:\n",
    "\n",
    "1. Fetching base container image\n",
    "2. Installing Roboschool and its dependencies\n",
    "3. Uploading the new container image to ECR\n",
    "\n",
    "This step can take a long time if you are running on a machine with a slow internet connection.  If your notebook instance is in SageMaker or EC2 it should take 3-10 minutes depending on the instance type.\n"
   ]
  },
  {
   "cell_type": "code",
   "execution_count": 8,
   "metadata": {},
   "outputs": [
    {
     "name": "stderr",
     "output_type": "stream",
     "text": [
      "train_instance_count has been renamed in sagemaker>=2.\n",
      "See: https://sagemaker.readthedocs.io/en/stable/v2.html for details.\n",
      "train_instance_type has been renamed in sagemaker>=2.\n",
      "See: https://sagemaker.readthedocs.io/en/stable/v2.html for details.\n"
     ]
    },
    {
     "name": "stdout",
     "output_type": "stream",
     "text": [
      "Creating tmpkbe33ehh_algo-1-kr97p_1 ... \n",
      "\u001b[1BAttaching to tmpkbe33ehh_algo-1-kr97p_12mdone\u001b[0m\n",
      "\u001b[36malgo-1-kr97p_1  |\u001b[0m 2021-02-24 03:06:58,762 sagemaker-containers INFO     Imported framework sagemaker_tensorflow_container.training\n",
      "\u001b[36malgo-1-kr97p_1  |\u001b[0m 2021-02-24 03:06:58,766 sagemaker-containers INFO     No GPUs detected (normal if no gpus installed)\n",
      "\u001b[36malgo-1-kr97p_1  |\u001b[0m 2021-02-24 03:06:58,885 sagemaker-containers INFO     No GPUs detected (normal if no gpus installed)\n",
      "\u001b[36malgo-1-kr97p_1  |\u001b[0m 2021-02-24 03:06:58,901 sagemaker-containers INFO     Invoking user script\n",
      "\u001b[36malgo-1-kr97p_1  |\u001b[0m \n",
      "\u001b[36malgo-1-kr97p_1  |\u001b[0m Training Env:\n",
      "\u001b[36malgo-1-kr97p_1  |\u001b[0m \n",
      "\u001b[36malgo-1-kr97p_1  |\u001b[0m {\n",
      "\u001b[36malgo-1-kr97p_1  |\u001b[0m     \"additional_framework_parameters\": {\n",
      "\u001b[36malgo-1-kr97p_1  |\u001b[0m         \"sagemaker_estimator\": \"RLEstimator\"\n",
      "\u001b[36malgo-1-kr97p_1  |\u001b[0m     },\n",
      "\u001b[36malgo-1-kr97p_1  |\u001b[0m     \"channel_input_dirs\": {},\n",
      "\u001b[36malgo-1-kr97p_1  |\u001b[0m     \"current_host\": \"algo-1-kr97p\",\n",
      "\u001b[36malgo-1-kr97p_1  |\u001b[0m     \"framework_module\": \"sagemaker_tensorflow_container.training:main\",\n",
      "\u001b[36malgo-1-kr97p_1  |\u001b[0m     \"hosts\": [\n",
      "\u001b[36malgo-1-kr97p_1  |\u001b[0m         \"algo-1-kr97p\"\n",
      "\u001b[36malgo-1-kr97p_1  |\u001b[0m     ],\n",
      "\u001b[36malgo-1-kr97p_1  |\u001b[0m     \"hyperparameters\": {\n",
      "\u001b[36malgo-1-kr97p_1  |\u001b[0m         \"s3_bucket\": \"sagemaker-ap-southeast-2-019676274883\",\n",
      "\u001b[36malgo-1-kr97p_1  |\u001b[0m         \"rl.training.stop.training_iteration\": 2,\n",
      "\u001b[36malgo-1-kr97p_1  |\u001b[0m         \"rl.training.checkpoint_freq\": 2\n",
      "\u001b[36malgo-1-kr97p_1  |\u001b[0m     },\n",
      "\u001b[36malgo-1-kr97p_1  |\u001b[0m     \"input_config_dir\": \"/opt/ml/input/config\",\n",
      "\u001b[36malgo-1-kr97p_1  |\u001b[0m     \"input_data_config\": {},\n",
      "\u001b[36malgo-1-kr97p_1  |\u001b[0m     \"input_dir\": \"/opt/ml/input\",\n",
      "\u001b[36malgo-1-kr97p_1  |\u001b[0m     \"job_name\": \"rl-solarcar-2021-02-24-03-06-55-799\",\n",
      "\u001b[36malgo-1-kr97p_1  |\u001b[0m     \"log_level\": 20,\n",
      "\u001b[36malgo-1-kr97p_1  |\u001b[0m     \"model_dir\": \"/opt/ml/model\",\n",
      "\u001b[36malgo-1-kr97p_1  |\u001b[0m     \"module_dir\": \"s3://sagemaker-ap-southeast-2-019676274883/rl-solarcar-2021-02-24-03-06-55-799/source/sourcedir.tar.gz\",\n",
      "\u001b[36malgo-1-kr97p_1  |\u001b[0m     \"module_name\": \"solarcar_train\",\n",
      "\u001b[36malgo-1-kr97p_1  |\u001b[0m     \"network_interface_name\": \"ethwe\",\n",
      "\u001b[36malgo-1-kr97p_1  |\u001b[0m     \"num_cpus\": 2,\n",
      "\u001b[36malgo-1-kr97p_1  |\u001b[0m     \"num_gpus\": 0,\n",
      "\u001b[36malgo-1-kr97p_1  |\u001b[0m     \"output_data_dir\": \"/opt/ml/output/data\",\n",
      "\u001b[36malgo-1-kr97p_1  |\u001b[0m     \"output_dir\": \"/opt/ml/output\",\n",
      "\u001b[36malgo-1-kr97p_1  |\u001b[0m     \"output_intermediate_dir\": \"/opt/ml/output/intermediate\",\n",
      "\u001b[36malgo-1-kr97p_1  |\u001b[0m     \"resource_config\": {\n",
      "\u001b[36malgo-1-kr97p_1  |\u001b[0m         \"current_host\": \"algo-1-kr97p\",\n",
      "\u001b[36malgo-1-kr97p_1  |\u001b[0m         \"hosts\": [\n",
      "\u001b[36malgo-1-kr97p_1  |\u001b[0m             \"algo-1-kr97p\"\n",
      "\u001b[36malgo-1-kr97p_1  |\u001b[0m         ]\n",
      "\u001b[36malgo-1-kr97p_1  |\u001b[0m     },\n",
      "\u001b[36malgo-1-kr97p_1  |\u001b[0m     \"user_entry_point\": \"solarcar_train.py\"\n",
      "\u001b[36malgo-1-kr97p_1  |\u001b[0m }\n",
      "\u001b[36malgo-1-kr97p_1  |\u001b[0m \n",
      "\u001b[36malgo-1-kr97p_1  |\u001b[0m Environment variables:\n",
      "\u001b[36malgo-1-kr97p_1  |\u001b[0m \n",
      "\u001b[36malgo-1-kr97p_1  |\u001b[0m SM_HOSTS=[\"algo-1-kr97p\"]\n",
      "\u001b[36malgo-1-kr97p_1  |\u001b[0m SM_NETWORK_INTERFACE_NAME=ethwe\n",
      "\u001b[36malgo-1-kr97p_1  |\u001b[0m SM_HPS={\"rl.training.checkpoint_freq\":2,\"rl.training.stop.training_iteration\":2,\"s3_bucket\":\"sagemaker-ap-southeast-2-019676274883\"}\n",
      "\u001b[36malgo-1-kr97p_1  |\u001b[0m SM_USER_ENTRY_POINT=solarcar_train.py\n",
      "\u001b[36malgo-1-kr97p_1  |\u001b[0m SM_FRAMEWORK_PARAMS={\"sagemaker_estimator\":\"RLEstimator\"}\n",
      "\u001b[36malgo-1-kr97p_1  |\u001b[0m SM_RESOURCE_CONFIG={\"current_host\":\"algo-1-kr97p\",\"hosts\":[\"algo-1-kr97p\"]}\n",
      "\u001b[36malgo-1-kr97p_1  |\u001b[0m SM_INPUT_DATA_CONFIG={}\n",
      "\u001b[36malgo-1-kr97p_1  |\u001b[0m SM_OUTPUT_DATA_DIR=/opt/ml/output/data\n",
      "\u001b[36malgo-1-kr97p_1  |\u001b[0m SM_CHANNELS=[]\n",
      "\u001b[36malgo-1-kr97p_1  |\u001b[0m SM_CURRENT_HOST=algo-1-kr97p\n",
      "\u001b[36malgo-1-kr97p_1  |\u001b[0m SM_MODULE_NAME=solarcar_train\n",
      "\u001b[36malgo-1-kr97p_1  |\u001b[0m SM_LOG_LEVEL=20\n",
      "\u001b[36malgo-1-kr97p_1  |\u001b[0m SM_FRAMEWORK_MODULE=sagemaker_tensorflow_container.training:main\n",
      "\u001b[36malgo-1-kr97p_1  |\u001b[0m SM_INPUT_DIR=/opt/ml/input\n",
      "\u001b[36malgo-1-kr97p_1  |\u001b[0m SM_INPUT_CONFIG_DIR=/opt/ml/input/config\n",
      "\u001b[36malgo-1-kr97p_1  |\u001b[0m SM_OUTPUT_DIR=/opt/ml/output\n",
      "\u001b[36malgo-1-kr97p_1  |\u001b[0m SM_NUM_CPUS=2\n",
      "\u001b[36malgo-1-kr97p_1  |\u001b[0m SM_NUM_GPUS=0\n",
      "\u001b[36malgo-1-kr97p_1  |\u001b[0m SM_MODEL_DIR=/opt/ml/model\n",
      "\u001b[36malgo-1-kr97p_1  |\u001b[0m SM_MODULE_DIR=s3://sagemaker-ap-southeast-2-019676274883/rl-solarcar-2021-02-24-03-06-55-799/source/sourcedir.tar.gz\n",
      "\u001b[36malgo-1-kr97p_1  |\u001b[0m SM_TRAINING_ENV={\"additional_framework_parameters\":{\"sagemaker_estimator\":\"RLEstimator\"},\"channel_input_dirs\":{},\"current_host\":\"algo-1-kr97p\",\"framework_module\":\"sagemaker_tensorflow_container.training:main\",\"hosts\":[\"algo-1-kr97p\"],\"hyperparameters\":{\"rl.training.checkpoint_freq\":2,\"rl.training.stop.training_iteration\":2,\"s3_bucket\":\"sagemaker-ap-southeast-2-019676274883\"},\"input_config_dir\":\"/opt/ml/input/config\",\"input_data_config\":{},\"input_dir\":\"/opt/ml/input\",\"job_name\":\"rl-solarcar-2021-02-24-03-06-55-799\",\"log_level\":20,\"model_dir\":\"/opt/ml/model\",\"module_dir\":\"s3://sagemaker-ap-southeast-2-019676274883/rl-solarcar-2021-02-24-03-06-55-799/source/sourcedir.tar.gz\",\"module_name\":\"solarcar_train\",\"network_interface_name\":\"ethwe\",\"num_cpus\":2,\"num_gpus\":0,\"output_data_dir\":\"/opt/ml/output/data\",\"output_dir\":\"/opt/ml/output\",\"output_intermediate_dir\":\"/opt/ml/output/intermediate\",\"resource_config\":{\"current_host\":\"algo-1-kr97p\",\"hosts\":[\"algo-1-kr97p\"]},\"user_entry_point\":\"solarcar_train.py\"}\n",
      "\u001b[36malgo-1-kr97p_1  |\u001b[0m SM_USER_ARGS=[\"--rl.training.checkpoint_freq\",\"2\",\"--rl.training.stop.training_iteration\",\"2\",\"--s3_bucket\",\"sagemaker-ap-southeast-2-019676274883\"]\n",
      "\u001b[36malgo-1-kr97p_1  |\u001b[0m SM_OUTPUT_INTERMEDIATE_DIR=/opt/ml/output/intermediate\n",
      "\u001b[36malgo-1-kr97p_1  |\u001b[0m SM_HP_S3_BUCKET=sagemaker-ap-southeast-2-019676274883\n",
      "\u001b[36malgo-1-kr97p_1  |\u001b[0m SM_HP_RL.TRAINING.STOP.TRAINING_ITERATION=2\n",
      "\u001b[36malgo-1-kr97p_1  |\u001b[0m SM_HP_RL.TRAINING.CHECKPOINT_FREQ=2\n",
      "\u001b[36malgo-1-kr97p_1  |\u001b[0m PYTHONPATH=/opt/ml/code:/usr/local/bin:/usr/lib/python36.zip:/usr/lib/python3.6:/usr/lib/python3.6/lib-dynload:/usr/local/lib/python3.6/dist-packages:/usr/lib/python3/dist-packages\n",
      "\u001b[36malgo-1-kr97p_1  |\u001b[0m \n",
      "\u001b[36malgo-1-kr97p_1  |\u001b[0m Invoking script with the following command:\n",
      "\u001b[36malgo-1-kr97p_1  |\u001b[0m \n",
      "\u001b[36malgo-1-kr97p_1  |\u001b[0m /usr/bin/python solarcar_train.py --rl.training.checkpoint_freq 2 --rl.training.stop.training_iteration 2 --s3_bucket sagemaker-ap-southeast-2-019676274883\n",
      "\u001b[36malgo-1-kr97p_1  |\u001b[0m \n",
      "\u001b[36malgo-1-kr97p_1  |\u001b[0m \n",
      "\u001b[36malgo-1-kr97p_1  |\u001b[0m Process STDOUT and STDERR is being redirected to /tmp/raylogs/.\n",
      "\u001b[36malgo-1-kr97p_1  |\u001b[0m Waiting for redis server at 127.0.0.1:25366 to respond...\n",
      "\u001b[36malgo-1-kr97p_1  |\u001b[0m Waiting for redis server at 127.0.0.1:26985 to respond...\n",
      "\u001b[36malgo-1-kr97p_1  |\u001b[0m Warning: Reducing object store memory because /dev/shm has only 67108864 bytes available. You may be able to free up space by deleting files in /dev/shm. If you are inside a Docker container, you may need to pass an argument with the flag '--shm-size' to 'docker run'.\n",
      "\u001b[36malgo-1-kr97p_1  |\u001b[0m Starting the Plasma object store with 0.00 GB memory.\n",
      "\u001b[36malgo-1-kr97p_1  |\u001b[0m Starting local scheduler with the following resources: {'CPU': 3, 'GPU': 0}.\n",
      "\u001b[36malgo-1-kr97p_1  |\u001b[0m Failed to start the UI, you may need to run 'pip install jupyter'.\n",
      "\u001b[36malgo-1-kr97p_1  |\u001b[0m No checkpoint path specified. Training from scratch.\n",
      "\u001b[36malgo-1-kr97p_1  |\u001b[0m Important! Ray with version <=0.7.2 may report \"Did not find checkpoint file\" even if the experiment is actually restored successfully. If restoration is expected, please check \"training_iteration\" in the experiment info to confirm.\n",
      "\u001b[36malgo-1-kr97p_1  |\u001b[0m == Status ==\n",
      "\u001b[36malgo-1-kr97p_1  |\u001b[0m Using FIFO scheduling algorithm.\n",
      "\u001b[36malgo-1-kr97p_1  |\u001b[0m \n",
      "\u001b[36malgo-1-kr97p_1  |\u001b[0m \n",
      "\u001b[36malgo-1-kr97p_1  |\u001b[0m Created LogSyncer for /opt/ml/output/intermediate/training/PPO_SolarCarEnv-v0_0_2021-02-24_03-07-07iv_l0jew -> \n",
      "\u001b[36malgo-1-kr97p_1  |\u001b[0m == Status ==\n",
      "\u001b[36malgo-1-kr97p_1  |\u001b[0m Using FIFO scheduling algorithm.\n",
      "\u001b[36malgo-1-kr97p_1  |\u001b[0m Resources requested: 2/3 CPUs, 0/0 GPUs\n",
      "\u001b[36malgo-1-kr97p_1  |\u001b[0m Result logdir: /opt/ml/output/intermediate/training\n",
      "\u001b[36malgo-1-kr97p_1  |\u001b[0m RUNNING trials:\n",
      "\u001b[36malgo-1-kr97p_1  |\u001b[0m  - PPO_SolarCarEnv-v0_0:\tRUNNING\n",
      "\u001b[36malgo-1-kr97p_1  |\u001b[0m \n",
      "\u001b[36malgo-1-kr97p_1  |\u001b[0m \u001b[33mWARN: Trying to monitor an environment which has no 'spec' set. This usually means you did not create it via 'gym.make', and is recommended only for advanced users.\u001b[0m\n",
      "\u001b[36malgo-1-kr97p_1  |\u001b[0m 2021-02-24 03:07:14.327585: I tensorflow/core/common_runtime/process_util.cc:71] Creating new thread pool with default inter op setting: 2. Tune using inter_op_parallelism_threads for best performance.\n",
      "\u001b[36malgo-1-kr97p_1  |\u001b[0m LocalMultiGPUOptimizer devices ['/cpu:0']\n",
      "\u001b[36malgo-1-kr97p_1  |\u001b[0m \u001b[33mWARN: Trying to monitor an environment which has no 'spec' set. This usually means you did not create it via 'gym.make', and is recommended only for advanced users.\u001b[0m\n",
      "\u001b[36malgo-1-kr97p_1  |\u001b[0m WARNING: Serializing objects of type <class 'ray.rllib.utils.filter.MeanStdFilter'> by expanding them as dictionaries of their fields. This behavior may be incorrect in some cases.\n",
      "\u001b[36malgo-1-kr97p_1  |\u001b[0m WARNING: Serializing objects of type <class 'ray.rllib.utils.filter.RunningStat'> by expanding them as dictionaries of their fields. This behavior may be incorrect in some cases.\n",
      "\u001b[36malgo-1-kr97p_1  |\u001b[0m Warning, no horizon specified, assuming infinite\n",
      "\u001b[36malgo-1-kr97p_1  |\u001b[0m WARNING: Serializing objects of type <class 'ray.rllib.evaluation.sample_batch.SampleBatch'> by expanding them as dictionaries of their fields. This behavior may be incorrect in some cases.\n",
      "\u001b[36malgo-1-kr97p_1  |\u001b[0m == sgd epochs ==\n",
      "\u001b[36malgo-1-kr97p_1  |\u001b[0m 0 {'cur_lr': 0.0005000000237487257, 'total_loss': 43971797000.0, 'policy_loss': -0.00048044886, 'vf_loss': 43971797000.0, 'vf_explained_var': 1.7508864e-06, 'kl': 0.00074465503, 'entropy': 2.9949892}\n",
      "\u001b[36malgo-1-kr97p_1  |\u001b[0m 1 {'cur_lr': 0.0005000000237487257, 'total_loss': 43971645000.0, 'policy_loss': -0.0019978655, 'vf_loss': 43971645000.0, 'vf_explained_var': 9.976327e-06, 'kl': 0.00074804935, 'entropy': 2.9949794}\n",
      "\u001b[36malgo-1-kr97p_1  |\u001b[0m 2 {'cur_lr': 0.0005000000237487257, 'total_loss': 43971355000.0, 'policy_loss': -0.002659253, 'vf_loss': 43971355000.0, 'vf_explained_var': 2.456829e-05, 'kl': 0.0009524407, 'entropy': 2.9947696}\n",
      "\u001b[36malgo-1-kr97p_1  |\u001b[0m 3 {'cur_lr': 0.0005000000237487257, 'total_loss': 43970966000.0, 'policy_loss': -0.0029241834, 'vf_loss': 43970966000.0, 'vf_explained_var': 4.2051077e-05, 'kl': 0.0011358892, 'entropy': 2.9945936}\n",
      "\u001b[36malgo-1-kr97p_1  |\u001b[0m 4 {'cur_lr': 0.0005000000237487257, 'total_loss': 43970593000.0, 'policy_loss': -0.0030038068, 'vf_loss': 43970593000.0, 'vf_explained_var': 6.027147e-05, 'kl': 0.00094551814, 'entropy': 2.9947772}\n",
      "\u001b[36malgo-1-kr97p_1  |\u001b[0m 5 {'cur_lr': 0.0005000000237487257, 'total_loss': 43970458000.0, 'policy_loss': -0.0038177022, 'vf_loss': 43970458000.0, 'vf_explained_var': 6.713718e-05, 'kl': 0.0010391262, 'entropy': 2.9946885}\n",
      "\u001b[36malgo-1-kr97p_1  |\u001b[0m 6 {'cur_lr': 0.0005000000237487257, 'total_loss': 43970363000.0, 'policy_loss': -0.004231197, 'vf_loss': 43970363000.0, 'vf_explained_var': 6.315485e-05, 'kl': 0.001204889, 'entropy': 2.994526}\n",
      "\u001b[36malgo-1-kr97p_1  |\u001b[0m 7 {'cur_lr': 0.0005000000237487257, 'total_loss': 43970273000.0, 'policy_loss': -0.005037616, 'vf_loss': 43970273000.0, 'vf_explained_var': 6.0990453e-05, 'kl': 0.0013785863, 'entropy': 2.9943404}\n",
      "\u001b[36malgo-1-kr97p_1  |\u001b[0m 8 {'cur_lr': 0.0005000000237487257, 'total_loss': 43970163000.0, 'policy_loss': -0.0054069194, 'vf_loss': 43970163000.0, 'vf_explained_var': 5.8542937e-05, 'kl': 0.0018087996, 'entropy': 2.9938912}\n",
      "\u001b[36malgo-1-kr97p_1  |\u001b[0m 9 {'cur_lr': 0.0005000000237487257, 'total_loss': 43970003000.0, 'policy_loss': -0.0056932904, 'vf_loss': 43970003000.0, 'vf_explained_var': 5.419925e-05, 'kl': 0.0017178517, 'entropy': 2.9940014}\n",
      "\u001b[36malgo-1-kr97p_1  |\u001b[0m 10 {'cur_lr': 0.0005000000237487257, 'total_loss': 43969683000.0, 'policy_loss': -0.0064403256, 'vf_loss': 43969683000.0, 'vf_explained_var': 4.5083463e-05, 'kl': 0.0020108703, 'entropy': 2.9936962}\n",
      "\u001b[36malgo-1-kr97p_1  |\u001b[0m 11 {'cur_lr': 0.0005000000237487257, 'total_loss': 43969120000.0, 'policy_loss': -0.007079765, 'vf_loss': 43969120000.0, 'vf_explained_var': 2.469495e-05, 'kl': 0.0022914105, 'entropy': 2.9934072}\n",
      "\u001b[36malgo-1-kr97p_1  |\u001b[0m 12 {'cur_lr': 0.0005000000237487257, 'total_loss': 43968710000.0, 'policy_loss': -0.007099887, 'vf_loss': 43968710000.0, 'vf_explained_var': 9.834766e-06, 'kl': 0.002139912, 'entropy': 2.9935594}\n",
      "\u001b[36malgo-1-kr97p_1  |\u001b[0m 13 {'cur_lr': 0.0005000000237487257, 'total_loss': 43968630000.0, 'policy_loss': -0.007828626, 'vf_loss': 43968630000.0, 'vf_explained_var': 8.765608e-06, 'kl': 0.0024596658, 'entropy': 2.993245}\n",
      "\u001b[36malgo-1-kr97p_1  |\u001b[0m 14 {'cur_lr': 0.0005000000237487257, 'total_loss': 43968620000.0, 'policy_loss': -0.007814211, 'vf_loss': 43968620000.0, 'vf_explained_var': 8.966774e-06, 'kl': 0.0026145366, 'entropy': 2.9930978}\n",
      "\u001b[36malgo-1-kr97p_1  |\u001b[0m 15 {'cur_lr': 0.0005000000237487257, 'total_loss': 43968614000.0, 'policy_loss': -0.008078156, 'vf_loss': 43968614000.0, 'vf_explained_var': 8.981675e-06, 'kl': 0.002764934, 'entropy': 2.9929338}\n",
      "\u001b[36malgo-1-kr97p_1  |\u001b[0m 16 {'cur_lr': 0.0005000000237487257, 'total_loss': 43968610000.0, 'policy_loss': -0.008769311, 'vf_loss': 43968610000.0, 'vf_explained_var': 8.843839e-06, 'kl': 0.0032508802, 'entropy': 2.9924536}\n",
      "\u001b[36malgo-1-kr97p_1  |\u001b[0m 17 {'cur_lr': 0.0005000000237487257, 'total_loss': 43968610000.0, 'policy_loss': -0.008583336, 'vf_loss': 43968610000.0, 'vf_explained_var': 8.430332e-06, 'kl': 0.0027894233, 'entropy': 2.992915}\n",
      "\u001b[36malgo-1-kr97p_1  |\u001b[0m 18 {'cur_lr': 0.0005000000237487257, 'total_loss': 43968610000.0, 'policy_loss': -0.009366671, 'vf_loss': 43968610000.0, 'vf_explained_var': 8.311123e-06, 'kl': 0.0030130043, 'entropy': 2.9926803}\n",
      "\u001b[36malgo-1-kr97p_1  |\u001b[0m 19 {'cur_lr': 0.0005000000237487257, 'total_loss': 43968606000.0, 'policy_loss': -0.009886233, 'vf_loss': 43968606000.0, 'vf_explained_var': 8.21054e-06, 'kl': 0.0031811162, 'entropy': 2.9925342}\n",
      "\u001b[36malgo-1-kr97p_1  |\u001b[0m WARNING: Serializing objects of type <class 'ray.rllib.evaluation.sampler.RolloutMetrics'> by expanding them as dictionaries of their fields. This behavior may be incorrect in some cases.\n",
      "\u001b[36malgo-1-kr97p_1  |\u001b[0m Result for PPO_SolarCarEnv-v0_0:\n",
      "\u001b[36malgo-1-kr97p_1  |\u001b[0m   date: 2021-02-24_03-08-13\n",
      "\u001b[36malgo-1-kr97p_1  |\u001b[0m   done: false\n",
      "\u001b[36malgo-1-kr97p_1  |\u001b[0m   episode_len_mean: 2997.0\n",
      "\u001b[36malgo-1-kr97p_1  |\u001b[0m   episode_reward_max: 7818049.958333362\n",
      "\u001b[36malgo-1-kr97p_1  |\u001b[0m   episode_reward_mean: 6712331.96180556\n",
      "\u001b[36malgo-1-kr97p_1  |\u001b[0m   episode_reward_min: 4807431.777777785\n",
      "\u001b[36malgo-1-kr97p_1  |\u001b[0m   episodes: 8\n",
      "\u001b[36malgo-1-kr97p_1  |\u001b[0m   experiment_id: e472169e79ce429e9a6c1f825b7969a0\n",
      "\u001b[36malgo-1-kr97p_1  |\u001b[0m   hostname: 1d034fb4a944\n",
      "\u001b[36malgo-1-kr97p_1  |\u001b[0m   info:\n",
      "\u001b[36malgo-1-kr97p_1  |\u001b[0m     cur_lr: 0.0005000000237487257\n",
      "\u001b[36malgo-1-kr97p_1  |\u001b[0m     entropy: 2.9925341606140137\n",
      "\u001b[36malgo-1-kr97p_1  |\u001b[0m     grad_time_ms: 12167.86\n",
      "\u001b[36malgo-1-kr97p_1  |\u001b[0m     kl: 0.0031811161898076534\n",
      "\u001b[36malgo-1-kr97p_1  |\u001b[0m     load_time_ms: 110.266\n",
      "\u001b[36malgo-1-kr97p_1  |\u001b[0m     num_steps_sampled: 25000\n",
      "\u001b[36malgo-1-kr97p_1  |\u001b[0m     num_steps_trained: 25000\n",
      "\u001b[36malgo-1-kr97p_1  |\u001b[0m     policy_loss: -0.009886233136057854\n",
      "\u001b[36malgo-1-kr97p_1  |\u001b[0m     sample_time_ms: 38686.671\n",
      "\u001b[36malgo-1-kr97p_1  |\u001b[0m     total_loss: 43968606208.0\n",
      "\u001b[36malgo-1-kr97p_1  |\u001b[0m     update_time_ms: 348.956\n",
      "\u001b[36malgo-1-kr97p_1  |\u001b[0m     vf_explained_var: 8.210539817810059e-06\n",
      "\u001b[36malgo-1-kr97p_1  |\u001b[0m     vf_loss: 43968606208.0\n",
      "\u001b[36malgo-1-kr97p_1  |\u001b[0m   iterations_since_restore: 1\n",
      "\u001b[36malgo-1-kr97p_1  |\u001b[0m   node_ip: 172.18.0.2\n",
      "\u001b[36malgo-1-kr97p_1  |\u001b[0m   pid: 77\n",
      "\u001b[36malgo-1-kr97p_1  |\u001b[0m   policy_reward_mean: {}\n",
      "\u001b[36malgo-1-kr97p_1  |\u001b[0m   time_since_restore: 51.4085967540741\n",
      "\u001b[36malgo-1-kr97p_1  |\u001b[0m   time_this_iter_s: 51.4085967540741\n",
      "\u001b[36malgo-1-kr97p_1  |\u001b[0m   time_total_s: 51.4085967540741\n",
      "\u001b[36malgo-1-kr97p_1  |\u001b[0m   timestamp: 1614136093\n",
      "\u001b[36malgo-1-kr97p_1  |\u001b[0m   timesteps_since_restore: 25000\n",
      "\u001b[36malgo-1-kr97p_1  |\u001b[0m   timesteps_this_iter: 25000\n",
      "\u001b[36malgo-1-kr97p_1  |\u001b[0m   timesteps_total: 25000\n",
      "\u001b[36malgo-1-kr97p_1  |\u001b[0m   training_iteration: 1\n",
      "\u001b[36malgo-1-kr97p_1  |\u001b[0m   \n",
      "\u001b[36malgo-1-kr97p_1  |\u001b[0m == Status ==\n",
      "\u001b[36malgo-1-kr97p_1  |\u001b[0m Using FIFO scheduling algorithm.\n",
      "\u001b[36malgo-1-kr97p_1  |\u001b[0m Resources requested: 2/3 CPUs, 0/0 GPUs\n",
      "\u001b[36malgo-1-kr97p_1  |\u001b[0m Result logdir: /opt/ml/output/intermediate/training\n",
      "\u001b[36malgo-1-kr97p_1  |\u001b[0m RUNNING trials:\n",
      "\u001b[36malgo-1-kr97p_1  |\u001b[0m  - PPO_SolarCarEnv-v0_0:\tRUNNING [pid=77], 51 s, 1 iter, 25000 ts, 6.71e+06 rew\n",
      "\u001b[36malgo-1-kr97p_1  |\u001b[0m \n",
      "\u001b[36malgo-1-kr97p_1  |\u001b[0m == sgd epochs ==\n",
      "\u001b[36malgo-1-kr97p_1  |\u001b[0m 0 {'cur_lr': 0.0005000000237487257, 'total_loss': 40539283000.0, 'policy_loss': -0.00018171966, 'vf_loss': 40539283000.0, 'vf_explained_var': 8.817762e-06, 'kl': 0.00057526643, 'entropy': 2.9920838}\n",
      "\u001b[36malgo-1-kr97p_1  |\u001b[0m 1 {'cur_lr': 0.0005000000237487257, 'total_loss': 40537367000.0, 'policy_loss': -0.0033483487, 'vf_loss': 40537367000.0, 'vf_explained_var': 8.244067e-06, 'kl': 0.0033616163, 'entropy': 2.988505}\n",
      "\u001b[36malgo-1-kr97p_1  |\u001b[0m 2 {'cur_lr': 0.0005000000237487257, 'total_loss': 40536855000.0, 'policy_loss': -0.0039282, 'vf_loss': 40536855000.0, 'vf_explained_var': 5.8226287e-06, 'kl': 0.0032615587, 'entropy': 2.9887784}\n",
      "\u001b[36malgo-1-kr97p_1  |\u001b[0m 3 {'cur_lr': 0.0005000000237487257, 'total_loss': 40536850000.0, 'policy_loss': -0.0050002146, 'vf_loss': 40536850000.0, 'vf_explained_var': 5.442649e-06, 'kl': 0.0037596242, 'entropy': 2.9879103}\n",
      "\u001b[36malgo-1-kr97p_1  |\u001b[0m 4 {'cur_lr': 0.0005000000237487257, 'total_loss': 40536850000.0, 'policy_loss': -0.006109817, 'vf_loss': 40536850000.0, 'vf_explained_var': 5.401671e-06, 'kl': 0.003906407, 'entropy': 2.9879947}\n",
      "\u001b[36malgo-1-kr97p_1  |\u001b[0m 5 {'cur_lr': 0.0005000000237487257, 'total_loss': 40536850000.0, 'policy_loss': -0.0058202604, 'vf_loss': 40536850000.0, 'vf_explained_var': 5.3867698e-06, 'kl': 0.0034681116, 'entropy': 2.9887786}\n",
      "\u001b[36malgo-1-kr97p_1  |\u001b[0m 6 {'cur_lr': 0.0005000000237487257, 'total_loss': 40536850000.0, 'policy_loss': -0.006835377, 'vf_loss': 40536850000.0, 'vf_explained_var': 5.375594e-06, 'kl': 0.004518902, 'entropy': 2.9874327}\n",
      "\u001b[36malgo-1-kr97p_1  |\u001b[0m 7 {'cur_lr': 0.0005000000237487257, 'total_loss': 40536850000.0, 'policy_loss': -0.006820926, 'vf_loss': 40536850000.0, 'vf_explained_var': 5.390495e-06, 'kl': 0.0037251106, 'entropy': 2.988255}\n",
      "\u001b[36malgo-1-kr97p_1  |\u001b[0m 8 {'cur_lr': 0.0005000000237487257, 'total_loss': 40536850000.0, 'policy_loss': -0.007593894, 'vf_loss': 40536850000.0, 'vf_explained_var': 5.4351985e-06, 'kl': 0.0047641117, 'entropy': 2.987102}\n",
      "\u001b[36malgo-1-kr97p_1  |\u001b[0m 9 {'cur_lr': 0.0005000000237487257, 'total_loss': 40536850000.0, 'policy_loss': -0.007913558, 'vf_loss': 40536850000.0, 'vf_explained_var': 5.442649e-06, 'kl': 0.0042424183, 'entropy': 2.9878912}\n",
      "\u001b[36malgo-1-kr97p_1  |\u001b[0m 10 {'cur_lr': 0.0005000000237487257, 'total_loss': 40536850000.0, 'policy_loss': -0.009132481, 'vf_loss': 40536850000.0, 'vf_explained_var': 5.4463744e-06, 'kl': 0.0051260963, 'entropy': 2.9867744}\n",
      "\u001b[36malgo-1-kr97p_1  |\u001b[0m 11 {'cur_lr': 0.0005000000237487257, 'total_loss': 40536850000.0, 'policy_loss': -0.009666661, 'vf_loss': 40536850000.0, 'vf_explained_var': 5.4575503e-06, 'kl': 0.0048181354, 'entropy': 2.9869258}\n",
      "\u001b[36malgo-1-kr97p_1  |\u001b[0m 12 {'cur_lr': 0.0005000000237487257, 'total_loss': 40536850000.0, 'policy_loss': -0.009969605, 'vf_loss': 40536850000.0, 'vf_explained_var': 5.4612756e-06, 'kl': 0.005465385, 'entropy': 2.9864678}\n",
      "\u001b[36malgo-1-kr97p_1  |\u001b[0m 13 {'cur_lr': 0.0005000000237487257, 'total_loss': 40536855000.0, 'policy_loss': -0.010701747, 'vf_loss': 40536855000.0, 'vf_explained_var': 5.465001e-06, 'kl': 0.005096035, 'entropy': 2.986801}\n",
      "\u001b[36malgo-1-kr97p_1  |\u001b[0m 14 {'cur_lr': 0.0005000000237487257, 'total_loss': 40536850000.0, 'policy_loss': -0.011076721, 'vf_loss': 40536850000.0, 'vf_explained_var': 5.442649e-06, 'kl': 0.0055560926, 'entropy': 2.9861763}\n",
      "\u001b[36malgo-1-kr97p_1  |\u001b[0m 15 {'cur_lr': 0.0005000000237487257, 'total_loss': 40536850000.0, 'policy_loss': -0.011433291, 'vf_loss': 40536850000.0, 'vf_explained_var': 5.468726e-06, 'kl': 0.005719063, 'entropy': 2.986143}\n",
      "\u001b[36malgo-1-kr97p_1  |\u001b[0m 16 {'cur_lr': 0.0005000000237487257, 'total_loss': 40536850000.0, 'policy_loss': -0.011772763, 'vf_loss': 40536850000.0, 'vf_explained_var': 5.491078e-06, 'kl': 0.0061211484, 'entropy': 2.9854207}\n",
      "\u001b[36malgo-1-kr97p_1  |\u001b[0m 17 {'cur_lr': 0.0005000000237487257, 'total_loss': 40536850000.0, 'policy_loss': -0.01166053, 'vf_loss': 40536850000.0, 'vf_explained_var': 5.491078e-06, 'kl': 0.006262413, 'entropy': 2.9856534}\n",
      "\u001b[36malgo-1-kr97p_1  |\u001b[0m 18 {'cur_lr': 0.0005000000237487257, 'total_loss': 40536850000.0, 'policy_loss': -0.011809547, 'vf_loss': 40536850000.0, 'vf_explained_var': 5.5022538e-06, 'kl': 0.005952445, 'entropy': 2.986119}\n",
      "\u001b[36malgo-1-kr97p_1  |\u001b[0m 19 {'cur_lr': 0.0005000000237487257, 'total_loss': 40536850000.0, 'policy_loss': -0.012911054, 'vf_loss': 40536850000.0, 'vf_explained_var': 5.5097044e-06, 'kl': 0.006130439, 'entropy': 2.985763}\n",
      "\u001b[36malgo-1-kr97p_1  |\u001b[0m Result for PPO_SolarCarEnv-v0_0:\n",
      "\u001b[36malgo-1-kr97p_1  |\u001b[0m   date: 2021-02-24_03-08-58\n",
      "\u001b[36malgo-1-kr97p_1  |\u001b[0m   done: true\n",
      "\u001b[36malgo-1-kr97p_1  |\u001b[0m   episode_len_mean: 2997.625\n",
      "\u001b[36malgo-1-kr97p_1  |\u001b[0m   episode_reward_max: 8127246.72222223\n",
      "\u001b[36malgo-1-kr97p_1  |\u001b[0m   episode_reward_mean: 6507382.71875\n",
      "\u001b[36malgo-1-kr97p_1  |\u001b[0m   episode_reward_min: 4471297.972222228\n",
      "\u001b[36malgo-1-kr97p_1  |\u001b[0m   episodes: 8\n",
      "\u001b[36malgo-1-kr97p_1  |\u001b[0m   experiment_id: e472169e79ce429e9a6c1f825b7969a0\n",
      "\u001b[36malgo-1-kr97p_1  |\u001b[0m   hostname: 1d034fb4a944\n",
      "\u001b[36malgo-1-kr97p_1  |\u001b[0m   info:\n",
      "\u001b[36malgo-1-kr97p_1  |\u001b[0m     cur_lr: 0.0005000000237487257\n",
      "\u001b[36malgo-1-kr97p_1  |\u001b[0m     entropy: 2.9857630729675293\n",
      "\u001b[36malgo-1-kr97p_1  |\u001b[0m     grad_time_ms: 11601.585\n",
      "\u001b[36malgo-1-kr97p_1  |\u001b[0m     kl: 0.006130439229309559\n",
      "\u001b[36malgo-1-kr97p_1  |\u001b[0m     load_time_ms: 56.571\n",
      "\u001b[36malgo-1-kr97p_1  |\u001b[0m     num_steps_sampled: 50000\n",
      "\u001b[36malgo-1-kr97p_1  |\u001b[0m     num_steps_trained: 50000\n",
      "\u001b[36malgo-1-kr97p_1  |\u001b[0m     policy_loss: -0.01291105430573225\n",
      "\u001b[36malgo-1-kr97p_1  |\u001b[0m     sample_time_ms: 36060.929\n",
      "\u001b[36malgo-1-kr97p_1  |\u001b[0m     total_loss: 40536850432.0\n",
      "\u001b[36malgo-1-kr97p_1  |\u001b[0m     update_time_ms: 176.859\n",
      "\u001b[36malgo-1-kr97p_1  |\u001b[0m     vf_explained_var: 5.509704351425171e-06\n",
      "\u001b[36malgo-1-kr97p_1  |\u001b[0m     vf_loss: 40536850432.0\n",
      "\u001b[36malgo-1-kr97p_1  |\u001b[0m   iterations_since_restore: 2\n",
      "\u001b[36malgo-1-kr97p_1  |\u001b[0m   node_ip: 172.18.0.2\n",
      "\u001b[36malgo-1-kr97p_1  |\u001b[0m   pid: 77\n",
      "\u001b[36malgo-1-kr97p_1  |\u001b[0m   policy_reward_mean: {}\n",
      "\u001b[36malgo-1-kr97p_1  |\u001b[0m   time_since_restore: 95.93964099884033\n",
      "\u001b[36malgo-1-kr97p_1  |\u001b[0m   time_this_iter_s: 44.531044244766235\n",
      "\u001b[36malgo-1-kr97p_1  |\u001b[0m   time_total_s: 95.93964099884033\n",
      "\u001b[36malgo-1-kr97p_1  |\u001b[0m   timestamp: 1614136138\n",
      "\u001b[36malgo-1-kr97p_1  |\u001b[0m   timesteps_since_restore: 50000\n",
      "\u001b[36malgo-1-kr97p_1  |\u001b[0m   timesteps_this_iter: 25000\n",
      "\u001b[36malgo-1-kr97p_1  |\u001b[0m   timesteps_total: 50000\n",
      "\u001b[36malgo-1-kr97p_1  |\u001b[0m   training_iteration: 2\n",
      "\u001b[36malgo-1-kr97p_1  |\u001b[0m   \n",
      "\u001b[36malgo-1-kr97p_1  |\u001b[0m == Status ==\n",
      "\u001b[36malgo-1-kr97p_1  |\u001b[0m Using FIFO scheduling algorithm.\n",
      "\u001b[36malgo-1-kr97p_1  |\u001b[0m Resources requested: 0/3 CPUs, 0/0 GPUs\n",
      "\u001b[36malgo-1-kr97p_1  |\u001b[0m Result logdir: /opt/ml/output/intermediate/training\n",
      "\u001b[36malgo-1-kr97p_1  |\u001b[0m TERMINATED trials:\n",
      "\u001b[36malgo-1-kr97p_1  |\u001b[0m  - PPO_SolarCarEnv-v0_0:\tTERMINATED [pid=77], 95 s, 2 iter, 50000 ts, 6.51e+06 rew\n",
      "\u001b[36malgo-1-kr97p_1  |\u001b[0m \n",
      "\u001b[36malgo-1-kr97p_1  |\u001b[0m == Status ==\n",
      "\u001b[36malgo-1-kr97p_1  |\u001b[0m Using FIFO scheduling algorithm.\n",
      "\u001b[36malgo-1-kr97p_1  |\u001b[0m Resources requested: 0/3 CPUs, 0/0 GPUs\n",
      "\u001b[36malgo-1-kr97p_1  |\u001b[0m Result logdir: /opt/ml/output/intermediate/training\n",
      "\u001b[36malgo-1-kr97p_1  |\u001b[0m TERMINATED trials:\n",
      "\u001b[36malgo-1-kr97p_1  |\u001b[0m  - PPO_SolarCarEnv-v0_0:\tTERMINATED [pid=77], 95 s, 2 iter, 50000 ts, 6.51e+06 rew\n",
      "\u001b[36malgo-1-kr97p_1  |\u001b[0m \n",
      "\u001b[36malgo-1-kr97p_1  |\u001b[0m Saved model configuration.\n",
      "\u001b[36malgo-1-kr97p_1  |\u001b[0m Saved the checkpoint file /opt/ml/output/intermediate/training/PPO_SolarCarEnv-v0_0_2021-02-24_03-07-07iv_l0jew/checkpoint-2.extra_data as /opt/ml/model/checkpoint.extra_data\n",
      "\u001b[36malgo-1-kr97p_1  |\u001b[0m Saved the checkpoint file /opt/ml/output/intermediate/training/PPO_SolarCarEnv-v0_0_2021-02-24_03-07-07iv_l0jew/checkpoint-2.tune_metadata as /opt/ml/model/checkpoint.tune_metadata\n",
      "\u001b[36malgo-1-kr97p_1  |\u001b[0m Loaded config for TensorFlow serving.\n",
      "\u001b[36malgo-1-kr97p_1  |\u001b[0m Created LogSyncer for /root/ray_results/PPO_SolarCarEnv-v0_2021-02-24_03-09-03wyyb3jl1 -> None\n",
      "\u001b[36malgo-1-kr97p_1  |\u001b[0m 2021-02-24 03:09:03.979212: I tensorflow/core/common_runtime/process_util.cc:71] Creating new thread pool with default inter op setting: 2. Tune using inter_op_parallelism_threads for best performance.\n",
      "\u001b[36malgo-1-kr97p_1  |\u001b[0m LocalMultiGPUOptimizer devices ['/cpu:0']\n",
      "\u001b[36malgo-1-kr97p_1  |\u001b[0m INFO:tensorflow:No assets to save.\n",
      "\u001b[36malgo-1-kr97p_1  |\u001b[0m No assets to save.\n",
      "\u001b[36malgo-1-kr97p_1  |\u001b[0m INFO:tensorflow:No assets to write.\n",
      "\u001b[36malgo-1-kr97p_1  |\u001b[0m No assets to write.\n",
      "\u001b[36malgo-1-kr97p_1  |\u001b[0m INFO:tensorflow:SavedModel written to: /opt/ml/model/1/saved_model.pb\n",
      "\u001b[36malgo-1-kr97p_1  |\u001b[0m SavedModel written to: /opt/ml/model/1/saved_model.pb\n",
      "\u001b[36malgo-1-kr97p_1  |\u001b[0m Saved TensorFlow serving model!\n",
      "\u001b[36malgo-1-kr97p_1  |\u001b[0m I0224 03:09:10.099917    76 local_scheduler.cc:178] Killed worker pid 262 which hadn't started yet.\n",
      "\u001b[36malgo-1-kr97p_1  |\u001b[0m 2021-02-24 03:09:10,668 sagemaker-containers INFO     Reporting training SUCCESS\n",
      "\u001b[36mtmpkbe33ehh_algo-1-kr97p_1 exited with code 0\n",
      "\u001b[0mAborting on container exit...\n"
     ]
    },
    {
     "name": "stderr",
     "output_type": "stream",
     "text": [
      "Failed to delete: /tmp/tmpkbe33ehh/algo-1-kr97p Please remove it manually.\n"
     ]
    },
    {
     "name": "stdout",
     "output_type": "stream",
     "text": [
      "===== Job Complete =====\n"
     ]
    }
   ],
   "source": [
    "from sagemaker.rl import RLEstimator, RLToolkit, RLFramework\n",
    "\n",
    "estimator = RLEstimator(entry_point=\"solarcar_train.py\", # Our launcher code\n",
    "                        source_dir='src', # Directory where the supporting files are at. All of this will be\n",
    "                                          # copied into the container.\n",
    "                       \n",
    "                        dependencies=[\"common/sagemaker_rl\"], # some other utils files.\n",
    "                        toolkit=RLToolkit.RAY, # We want to run using the Ray toolkit against the ray container image.\n",
    "                        framework=RLFramework.TENSORFLOW, # The code is in tensorflow backend.\n",
    "                        toolkit_version='0.5.3', # Toolkit version. This will also choose an apporpriate tf version.                                               \n",
    "                        #toolkit_version='0.6.5', # Toolkit version. This will also choose an apporpriate tf version.                        \n",
    "                        role=role, # The IAM role that we created at the begining.\n",
    "                        #train_instance_type=\"ml.m4.xlarge\", # Since we want to run fast, lets run on GPUs.\n",
    "                        train_instance_type=\"local\", # Since we want to run fast, lets run on GPUs.\n",
    "                        train_instance_count=1, # Single instance will also work, but running distributed makes things \n",
    "                                                # fast, particularly in the case of multiple rollout training.\n",
    "                        output_path=s3_output_path, # The path where we can expect our trained model.\n",
    "                        base_job_name=job_name_prefix, # This is the name we setup above to be to track our job.\n",
    "                        hyperparameters = {      # Some hyperparameters for Ray toolkit to operate.\n",
    "                          \"s3_bucket\": s3_bucket,\n",
    "                          \"rl.training.stop.training_iteration\": 2, # Number of iterations.\n",
    "                          \"rl.training.checkpoint_freq\": 2,\n",
    "                        },\n",
    "                        #metric_definitions=metric_definitions, # This will bring all the logs out into the notebook.\n",
    "                    )\n",
    "\n",
    "estimator.fit(wait = True, logs='All')"
   ]
  },
  {
   "cell_type": "code",
   "execution_count": 9,
   "metadata": {},
   "outputs": [
    {
     "name": "stdout",
     "output_type": "stream",
     "text": [
      "WARNING! Using --password via the CLI is insecure. Use --password-stdin.\n",
      "WARNING! Your password will be stored unencrypted in /home/ec2-user/.docker/config.json.\n",
      "Configure a credential helper to remove this warning. See\n",
      "https://docs.docker.com/engine/reference/commandline/login/#credentials-store\n",
      "\n",
      "Login Succeeded\n",
      "Logged into ECR\n",
      "Building docker image sagemaker-roboschool-ray-gpu from Dockerfile\n",
      "$ docker build -t sagemaker-roboschool-ray-gpu -f Dockerfile . --build-arg CPU_OR_GPU=gpu --build-arg AWS_REGION=ap-southeast-2\n",
      "Sending build context to Docker daemon  8.947MB\n",
      "Step 1/14 : ARG CPU_OR_GPU\n",
      "Step 2/14 : ARG AWS_REGION\n",
      "Step 3/14 : FROM 462105765813.dkr.ecr.${AWS_REGION}.amazonaws.com/sagemaker-rl-ray-container:ray-0.8.2-tf-${CPU_OR_GPU}-py36\n",
      " ---> 044fa0c8742a\n",
      "Step 4/14 : WORKDIR /opt/ml\n",
      " ---> Using cache\n",
      " ---> 983013f45aaf\n",
      "Step 5/14 : RUN apt-get update && apt-get install -y       git cmake ffmpeg pkg-config       qtbase5-dev libqt5opengl5-dev libassimp-dev       libtinyxml-dev       libgl1-mesa-dev     && cd /opt     && apt-get clean && rm -rf /var/cache/apt/archives/* /var/lib/apt/lists/*\n",
      " ---> Using cache\n",
      " ---> 826153aae5a0\n",
      "Step 6/14 : RUN apt-get update &&     apt-get install -y libboost-python-dev\n",
      " ---> Using cache\n",
      " ---> abe0cd048257\n",
      "Step 7/14 : RUN apt-get update     && apt-get install -y --no-install-recommends python3.6-dev     && ln -s -f /usr/bin/python3.6 /usr/bin/python     && apt-get clean     && rm -rf /var/cache/apt/archives/* /var/lib/apt/lists/*\n",
      " ---> Using cache\n",
      " ---> 7263c42379d7\n",
      "Step 8/14 : RUN curl -fSsL -O https://bootstrap.pypa.io/get-pip.py &&     python get-pip.py &&     rm get-pip.py\n",
      " ---> Using cache\n",
      " ---> bfe1a09d470f\n",
      "Step 9/14 : RUN pip install --upgrade     pip     setuptools     setproctitle     lz4     psutil\n",
      " ---> Using cache\n",
      " ---> 2e09ef0755ca\n",
      "Step 10/14 : RUN pip install sagemaker-tensorflow-training==20.1.4\n",
      " ---> Using cache\n",
      " ---> 50d100d87d1e\n",
      "Step 11/14 : RUN pip install roboschool==1.0.46\n",
      " ---> Using cache\n",
      " ---> 826cca5365d5\n",
      "Step 12/14 : ENV PYTHONUNBUFFERED 1\n",
      " ---> Using cache\n",
      " ---> da6d66e6b0ce\n",
      "Step 13/14 : RUN python -c \"import gym;import sagemaker_containers.cli.train;import roboschool; import ray; from sagemaker_containers.cli.train import main\"\n",
      " ---> Using cache\n",
      " ---> 957e8c03cbf6\n",
      "Step 14/14 : WORKDIR /opt/ml/code\n",
      " ---> Using cache\n",
      " ---> f072979bd027\n",
      "Successfully built f072979bd027\n",
      "Successfully tagged sagemaker-roboschool-ray-gpu:latest\n",
      "Done building docker image sagemaker-roboschool-ray-gpu\n",
      "ECR repository already exists: sagemaker-roboschool-ray-gpu\n",
      "WARNING! Using --password via the CLI is insecure. Use --password-stdin.\n",
      "WARNING! Your password will be stored unencrypted in /home/ec2-user/.docker/config.json.\n",
      "Configure a credential helper to remove this warning. See\n",
      "https://docs.docker.com/engine/reference/commandline/login/#credentials-store\n",
      "\n",
      "Login Succeeded\n",
      "Logged into ECR\n",
      "$ docker tag sagemaker-roboschool-ray-gpu 019676274883.dkr.ecr.ap-southeast-2.amazonaws.com/sagemaker-roboschool-ray-gpu\n",
      "Pushing docker image to ECR repository 019676274883.dkr.ecr.ap-southeast-2.amazonaws.com/sagemaker-roboschool-ray-gpu\n",
      "\n",
      "$ docker push 019676274883.dkr.ecr.ap-southeast-2.amazonaws.com/sagemaker-roboschool-ray-gpu\n",
      "The push refers to repository [019676274883.dkr.ecr.ap-southeast-2.amazonaws.com/sagemaker-roboschool-ray-gpu]\n",
      "994109382a99: Preparing\n",
      "bd4a173650cd: Preparing\n",
      "99b6671038e9: Preparing\n",
      "ff464aa51f98: Preparing\n",
      "af218727361f: Preparing\n",
      "4b631f544ee5: Preparing\n",
      "162dd0f8b690: Preparing\n",
      "c76349b007d5: Preparing\n",
      "65376d7d735c: Preparing\n",
      "0dae978a2d33: Preparing\n",
      "8066dbc2783a: Preparing\n",
      "2efd74d9553e: Preparing\n",
      "0f4c2d64152e: Preparing\n",
      "62d0115cbda1: Preparing\n",
      "98fc45b4e031: Preparing\n",
      "6d79eb9ebda6: Preparing\n",
      "d56e4829d3bc: Preparing\n",
      "d1cca4b15037: Preparing\n",
      "a6e85bf23a91: Preparing\n",
      "b5cb62cacce5: Preparing\n",
      "2354d22b16ab: Preparing\n",
      "60d326dec4ac: Preparing\n",
      "3d046ff78197: Preparing\n",
      "dc42df5cf960: Preparing\n",
      "d0efffe6a1c2: Preparing\n",
      "113eb763c8de: Preparing\n",
      "5d62d1b05303: Preparing\n",
      "d48b6fe5b1de: Preparing\n",
      "8ec81b2fdf03: Preparing\n",
      "ee5f1e0f148b: Preparing\n",
      "808fd332a58a: Preparing\n",
      "b16af11cbf29: Preparing\n",
      "37b9a4b22186: Preparing\n",
      "e0b3afb09dc3: Preparing\n",
      "6c01b5a53aac: Preparing\n",
      "2c6ac8e5063e: Preparing\n",
      "cc967c529ced: Preparing\n",
      "b5cb62cacce5: Waiting\n",
      "2354d22b16ab: Waiting\n",
      "60d326dec4ac: Waiting\n",
      "3d046ff78197: Waiting\n",
      "dc42df5cf960: Waiting\n",
      "d0efffe6a1c2: Waiting\n",
      "113eb763c8de: Waiting\n",
      "5d62d1b05303: Waiting\n",
      "d48b6fe5b1de: Waiting\n",
      "8ec81b2fdf03: Waiting\n",
      "ee5f1e0f148b: Waiting\n",
      "808fd332a58a: Waiting\n",
      "b16af11cbf29: Waiting\n",
      "37b9a4b22186: Waiting\n",
      "e0b3afb09dc3: Waiting\n",
      "6c01b5a53aac: Waiting\n",
      "2c6ac8e5063e: Waiting\n",
      "cc967c529ced: Waiting\n",
      "4b631f544ee5: Waiting\n",
      "162dd0f8b690: Waiting\n",
      "c76349b007d5: Waiting\n",
      "65376d7d735c: Waiting\n",
      "0dae978a2d33: Waiting\n",
      "8066dbc2783a: Waiting\n",
      "2efd74d9553e: Waiting\n",
      "0f4c2d64152e: Waiting\n",
      "62d0115cbda1: Waiting\n",
      "98fc45b4e031: Waiting\n",
      "6d79eb9ebda6: Waiting\n",
      "d56e4829d3bc: Waiting\n",
      "d1cca4b15037: Waiting\n",
      "a6e85bf23a91: Waiting\n",
      "99b6671038e9: Layer already exists\n",
      "ff464aa51f98: Layer already exists\n",
      "af218727361f: Layer already exists\n",
      "994109382a99: Layer already exists\n",
      "bd4a173650cd: Layer already exists\n",
      "4b631f544ee5: Layer already exists\n",
      "162dd0f8b690: Layer already exists\n",
      "c76349b007d5: Layer already exists\n",
      "65376d7d735c: Layer already exists\n",
      "0dae978a2d33: Layer already exists\n",
      "8066dbc2783a: Layer already exists\n",
      "2efd74d9553e: Layer already exists\n",
      "98fc45b4e031: Layer already exists\n",
      "0f4c2d64152e: Layer already exists\n",
      "62d0115cbda1: Layer already exists\n",
      "6d79eb9ebda6: Layer already exists\n",
      "d56e4829d3bc: Layer already exists\n",
      "a6e85bf23a91: Layer already exists\n",
      "b5cb62cacce5: Layer already exists\n",
      "d1cca4b15037: Layer already exists\n",
      "2354d22b16ab: Layer already exists\n",
      "60d326dec4ac: Layer already exists\n",
      "3d046ff78197: Layer already exists\n",
      "dc42df5cf960: Layer already exists\n",
      "d0efffe6a1c2: Layer already exists\n",
      "113eb763c8de: Layer already exists\n",
      "5d62d1b05303: Layer already exists\n",
      "d48b6fe5b1de: Layer already exists\n",
      "8ec81b2fdf03: Layer already exists\n",
      "ee5f1e0f148b: Layer already exists\n",
      "808fd332a58a: Layer already exists\n",
      "b16af11cbf29: Layer already exists\n",
      "37b9a4b22186: Layer already exists\n",
      "e0b3afb09dc3: Layer already exists\n",
      "6c01b5a53aac: Layer already exists\n",
      "2c6ac8e5063e: Layer already exists\n",
      "cc967c529ced: Layer already exists\n",
      "latest: digest: sha256:b5e29e7dab283bb5de0b5620d9cc18ca5e5e275d10be412132198a76e81fe2aa size: 8067\n",
      "Done pushing 019676274883.dkr.ecr.ap-southeast-2.amazonaws.com/sagemaker-roboschool-ray-gpu\n",
      "Using ECR image 019676274883.dkr.ecr.ap-southeast-2.amazonaws.com/sagemaker-roboschool-ray-gpu\n",
      "CPU times: user 276 ms, sys: 56.1 ms, total: 332 ms\n",
      "Wall time: 2.5 s\n"
     ]
    }
   ],
   "source": [
    "%%time\n",
    "\n",
    "cpu_or_gpu = 'gpu' if instance_type.startswith('ml.p') else 'cpu'\n",
    "repository_short_name = \"sagemaker-roboschool-ray-%s\" % cpu_or_gpu\n",
    "docker_build_args = {\n",
    "    'CPU_OR_GPU': cpu_or_gpu, \n",
    "    'AWS_REGION': boto3.Session().region_name,\n",
    "}\n",
    "custom_image_name = build_and_push_docker_image(repository_short_name, build_args=docker_build_args)\n",
    "print(\"Using ECR image %s\" % custom_image_name)"
   ]
  },
  {
   "cell_type": "markdown",
   "metadata": {},
   "source": [
    "## Write the Training Code\n",
    "\n",
    "The training code is written in the file “solarcar_train.py” which is uploaded in the /src directory. \n",
    "First import the environment files and the preset files, and then define the main() function. "
   ]
  },
  {
   "cell_type": "code",
   "execution_count": 10,
   "metadata": {},
   "outputs": [
    {
     "name": "stdout",
     "output_type": "stream",
     "text": [
      "\u001b[34mimport\u001b[39;49;00m \u001b[04m\u001b[36mjson\u001b[39;49;00m\n",
      "\u001b[34mimport\u001b[39;49;00m \u001b[04m\u001b[36mos\u001b[39;49;00m\n",
      "\n",
      "\u001b[34mimport\u001b[39;49;00m \u001b[04m\u001b[36mgym\u001b[39;49;00m\n",
      "\u001b[34mimport\u001b[39;49;00m \u001b[04m\u001b[36mray\u001b[39;49;00m\n",
      "\u001b[34mfrom\u001b[39;49;00m \u001b[04m\u001b[36mray\u001b[39;49;00m\u001b[04m\u001b[36m.\u001b[39;49;00m\u001b[04m\u001b[36mtune\u001b[39;49;00m \u001b[34mimport\u001b[39;49;00m run_experiments\n",
      "\n",
      "\n",
      "\u001b[34mfrom\u001b[39;49;00m \u001b[04m\u001b[36mray\u001b[39;49;00m\u001b[04m\u001b[36m.\u001b[39;49;00m\u001b[04m\u001b[36mtune\u001b[39;49;00m\u001b[04m\u001b[36m.\u001b[39;49;00m\u001b[04m\u001b[36mregistry\u001b[39;49;00m \u001b[34mimport\u001b[39;49;00m register_env\n",
      "\u001b[34mfrom\u001b[39;49;00m \u001b[04m\u001b[36msolarcar_env\u001b[39;49;00m \u001b[34mimport\u001b[39;49;00m SolarCarEnv\n",
      "\n",
      "\n",
      "\u001b[34mfrom\u001b[39;49;00m \u001b[04m\u001b[36msagemaker_rl\u001b[39;49;00m\u001b[04m\u001b[36m.\u001b[39;49;00m\u001b[04m\u001b[36mray_launcher\u001b[39;49;00m \u001b[34mimport\u001b[39;49;00m SageMakerRayLauncher\n",
      "        \n",
      "\n",
      "\n",
      "\u001b[34mclass\u001b[39;49;00m \u001b[04m\u001b[32mMyLauncher\u001b[39;49;00m(SageMakerRayLauncher):\n",
      "        \n",
      "          \n",
      "    \u001b[34mdef\u001b[39;49;00m \u001b[32mregister_env_creator\u001b[39;49;00m(\u001b[36mself\u001b[39;49;00m):\n",
      "        env_name = \u001b[33m\"\u001b[39;49;00m\u001b[33mSolarCarEnv-v0\u001b[39;49;00m\u001b[33m\"\u001b[39;49;00m\n",
      "        register_env(env_name, \u001b[34mlambda\u001b[39;49;00m env_config: SolarCarEnv())\n",
      "\n",
      "\n",
      "    \u001b[34mdef\u001b[39;49;00m \u001b[32mget_experiment_config\u001b[39;49;00m(\u001b[36mself\u001b[39;49;00m):\n",
      "        \u001b[34mreturn\u001b[39;49;00m {\n",
      "          \u001b[33m\"\u001b[39;49;00m\u001b[33mtraining\u001b[39;49;00m\u001b[33m\"\u001b[39;49;00m: {\n",
      "            \u001b[33m\"\u001b[39;49;00m\u001b[33menv\u001b[39;49;00m\u001b[33m\"\u001b[39;49;00m: \u001b[33m\"\u001b[39;49;00m\u001b[33mSolarCarEnv-v0\u001b[39;49;00m\u001b[33m\"\u001b[39;49;00m,\n",
      "            \u001b[33m\"\u001b[39;49;00m\u001b[33mrun\u001b[39;49;00m\u001b[33m\"\u001b[39;49;00m: \u001b[33m\"\u001b[39;49;00m\u001b[33mPPO\u001b[39;49;00m\u001b[33m\"\u001b[39;49;00m,\n",
      "            \u001b[33m\"\u001b[39;49;00m\u001b[33mstop\u001b[39;49;00m\u001b[33m\"\u001b[39;49;00m: {\n",
      "              \u001b[33m\"\u001b[39;49;00m\u001b[33mtraining_iteration\u001b[39;49;00m\u001b[33m\"\u001b[39;49;00m: \u001b[34m5\u001b[39;49;00m,\n",
      "            },\n",
      "            \u001b[33m\"\u001b[39;49;00m\u001b[33mconfig\u001b[39;49;00m\u001b[33m\"\u001b[39;49;00m: {\n",
      "              \u001b[33m\"\u001b[39;49;00m\u001b[33mgamma\u001b[39;49;00m\u001b[33m\"\u001b[39;49;00m: \u001b[34m0.995\u001b[39;49;00m,\n",
      "              \u001b[33m\"\u001b[39;49;00m\u001b[33mkl_coeff\u001b[39;49;00m\u001b[33m\"\u001b[39;49;00m: \u001b[34m1.0\u001b[39;49;00m,\n",
      "              \u001b[33m\"\u001b[39;49;00m\u001b[33mnum_sgd_iter\u001b[39;49;00m\u001b[33m\"\u001b[39;49;00m: \u001b[34m20\u001b[39;49;00m,\n",
      "              \u001b[33m\"\u001b[39;49;00m\u001b[33mlr\u001b[39;49;00m\u001b[33m\"\u001b[39;49;00m: \u001b[34m0.0005\u001b[39;49;00m,\n",
      "              \u001b[33m\"\u001b[39;49;00m\u001b[33msgd_minibatch_size\u001b[39;49;00m\u001b[33m\"\u001b[39;49;00m: \u001b[34m1500\u001b[39;49;00m,\n",
      "              \u001b[33m\"\u001b[39;49;00m\u001b[33mtrain_batch_size\u001b[39;49;00m\u001b[33m\"\u001b[39;49;00m: \u001b[34m25000\u001b[39;49;00m,\n",
      "              \u001b[33m\"\u001b[39;49;00m\u001b[33mmonitor\u001b[39;49;00m\u001b[33m\"\u001b[39;49;00m: \u001b[34mTrue\u001b[39;49;00m,  \u001b[37m# Record videos.\u001b[39;49;00m\n",
      "              \u001b[33m\"\u001b[39;49;00m\u001b[33mmodel\u001b[39;49;00m\u001b[33m\"\u001b[39;49;00m: {\n",
      "                \u001b[33m\"\u001b[39;49;00m\u001b[33mfree_log_std\u001b[39;49;00m\u001b[33m\"\u001b[39;49;00m: \u001b[34mTrue\u001b[39;49;00m\n",
      "              },\n",
      "              \u001b[33m\"\u001b[39;49;00m\u001b[33mnum_workers\u001b[39;49;00m\u001b[33m\"\u001b[39;49;00m: (\u001b[36mself\u001b[39;49;00m.num_cpus-\u001b[34m1\u001b[39;49;00m),\n",
      "              \u001b[33m\"\u001b[39;49;00m\u001b[33mnum_gpus\u001b[39;49;00m\u001b[33m\"\u001b[39;49;00m: \u001b[36mself\u001b[39;49;00m.num_gpus,\n",
      "              \u001b[33m\"\u001b[39;49;00m\u001b[33mbatch_mode\u001b[39;49;00m\u001b[33m\"\u001b[39;49;00m: \u001b[33m\"\u001b[39;49;00m\u001b[33mtruncate_episodes\u001b[39;49;00m\u001b[33m\"\u001b[39;49;00m\n",
      "            }\n",
      "          }\n",
      "        }\n",
      "\n",
      "\u001b[34mif\u001b[39;49;00m \u001b[31m__name__\u001b[39;49;00m == \u001b[33m\"\u001b[39;49;00m\u001b[33m__main__\u001b[39;49;00m\u001b[33m\"\u001b[39;49;00m:\n",
      "\n",
      "\n",
      "    MyLauncher().train_main()\n"
     ]
    }
   ],
   "source": [
    "!pygmentize src/{project_name}_train.py"
   ]
  },
  {
   "cell_type": "markdown",
   "metadata": {},
   "source": [
    "## Train the RL model using the Python SDK Script mode\n",
    "\n",
    "If you are using local mode, the training will run on the notebook instance. When using SageMaker for training, you can select a GPU or CPU instance. The RLEstimator is used for training RL jobs. \n",
    "\n",
    "1. Specify the source directory where the environment, presets and training code is uploaded.\n",
    "2. Specify the entry point as the training code \n",
    "3. Specify the choice of RL toolkit and framework. This automatically resolves to the ECR path for the RL Container. \n",
    "4. Define the training parameters such as the instance count, job name, S3 path for output and job name. \n",
    "5. Specify the hyperparameters for the RL agent algorithm. The RLCOACH_PRESET or the RLRAY_PRESET can be used to specify the RL agent algorithm you want to use. \n",
    "6. Define the metrics definitions that you are interested in capturing in your logs. These can also be visualized in CloudWatch and SageMaker Notebooks. "
   ]
  },
  {
   "cell_type": "code",
   "execution_count": 11,
   "metadata": {
    "scrolled": true
   },
   "outputs": [
    {
     "name": "stdout",
     "output_type": "stream",
     "text": [
      "Training job: rl-solarcar-2021-02-24-03-53-51-962\n",
      "CPU times: user 216 ms, sys: 0 ns, total: 216 ms\n",
      "Wall time: 627 ms\n"
     ]
    }
   ],
   "source": [
    "%%time\n",
    "\n",
    "metric_definitions = RLEstimator.default_metric_definitions(RLToolkit.RAY)\n",
    "    \n",
    "estimator = RLEstimator(entry_point=\"solarcar_train.py\",\n",
    "                        source_dir='src',\n",
    "                        dependencies=[\"common/sagemaker_rl\"],\n",
    "                        image_uri=custom_image_name,\n",
    "                        role=role,\n",
    "                        instance_type=instance_type,\n",
    "                        instance_count=1,\n",
    "                        output_path=s3_output_path,\n",
    "                        base_job_name=job_name_prefix,\n",
    "                        metric_definitions=metric_definitions,\n",
    "                        hyperparameters={\n",
    "                          # Attention scientists!  You can override any Ray algorithm parameter here:\n",
    "                          #\"rl.training.config.horizon\": 5000,\n",
    "                          #\"rl.training.config.num_sgd_iter\": 10,\n",
    "                        }\n",
    "                    )\n",
    "\n",
    "estimator.fit(wait=local_mode)\n",
    "job_name = estimator.latest_training_job.job_name\n",
    "print(\"Training job: %s\" % job_name)"
   ]
  },
  {
   "cell_type": "markdown",
   "metadata": {},
   "source": [
    "### Create intermediate folder\n",
    "\n",
    "RL training can take a long time.  So while it's running there are a variety of ways we can track progress of the running training job.  Some intermediate output gets saved to S3 during training, so we'll set up to capture that."
   ]
  },
  {
   "cell_type": "code",
   "execution_count": 14,
   "metadata": {},
   "outputs": [
    {
     "name": "stdout",
     "output_type": "stream",
     "text": [
      "Job name: rl-solarcar-2021-02-24-03-53-51-962\n",
      "S3 job path: s3://sagemaker-ap-southeast-2-019676274883/rl-solarcar-2021-02-24-03-53-51-962\n",
      "Intermediate folder path: s3://sagemaker-ap-southeast-2-019676274883/rl-solarcar-2021-02-24-03-53-51-962/output/intermediate/\n",
      "Create local folder /tmp/rl-solarcar-2021-02-24-03-53-51-962\n"
     ]
    }
   ],
   "source": [
    "print(\"Job name: {}\".format(job_name))\n",
    "\n",
    "s3_url = \"s3://{}/{}\".format(s3_bucket,job_name)\n",
    "\n",
    "intermediate_folder_key = \"{}/output/intermediate/\".format(job_name)\n",
    "intermediate_url = \"s3://{}/{}\".format(s3_bucket, intermediate_folder_key)\n",
    "\n",
    "print(\"S3 job path: {}\".format(s3_url))\n",
    "print(\"Intermediate folder path: {}\".format(intermediate_url))\n",
    "    \n",
    "tmp_dir = \"/tmp/{}\".format(job_name)\n",
    "os.system(\"mkdir {}\".format(tmp_dir))\n",
    "print(\"Create local folder {}\".format(tmp_dir))"
   ]
  },
  {
   "cell_type": "markdown",
   "metadata": {},
   "source": [
    "## Evaluation of RL models\n",
    "\n",
    "We use the last checkpointed model to run evaluation for the RL Agent. \n",
    "\n",
    "### Load checkpointed model\n",
    "\n",
    "Checkpointed data from the previously trained models will be passed on for evaluation / inference in the checkpoint channel. In local mode, we can simply use the local directory, whereas in the SageMaker mode, it needs to be moved to S3 first."
   ]
  },
  {
   "cell_type": "code",
   "execution_count": 15,
   "metadata": {},
   "outputs": [],
   "source": [
    "if local_mode:\n",
    "    model_tar_key = \"{}/model.tar.gz\".format(job_name)\n",
    "else:\n",
    "    model_tar_key = \"{}/output/model.tar.gz\".format(job_name)"
   ]
  },
  {
   "cell_type": "code",
   "execution_count": 16,
   "metadata": {},
   "outputs": [
    {
     "name": "stdout",
     "output_type": "stream",
     "text": [
      "Waiting for s3://sagemaker-ap-southeast-2-019676274883/rl-solarcar-2021-02-24-03-53-51-962/output/model.tar.gz...\n",
      "Downloading rl-solarcar-2021-02-24-03-53-51-962/output/model.tar.gz\n",
      "Checkpoint directory /tmp/rl-solarcar-2021-02-24-03-53-51-962/model\n"
     ]
    }
   ],
   "source": [
    "if local_mode:\n",
    "    model_tar_key = \"{}/model.tar.gz\".format(job_name)\n",
    "else:\n",
    "    model_tar_key = \"{}/output/model.tar.gz\".format(job_name)\n",
    "     \n",
    "local_checkpoint_dir = \"{}/model\".format(tmp_dir)\n",
    "\n",
    "wait_for_s3_object(s3_bucket, model_tar_key, tmp_dir, training_job_name=job_name)  \n",
    "\n",
    "if not os.path.isfile(\"{}/model.tar.gz\".format(tmp_dir)):\n",
    "    raise FileNotFoundError(\"File model.tar.gz not found\")\n",
    "    \n",
    "os.system(\"mkdir -p {}\".format(local_checkpoint_dir))\n",
    "os.system(\"tar -xvzf {}/model.tar.gz -C {}\".format(tmp_dir, local_checkpoint_dir))\n",
    "\n",
    "print(\"Checkpoint directory {}\".format(local_checkpoint_dir))"
   ]
  },
  {
   "cell_type": "code",
   "execution_count": 17,
   "metadata": {},
   "outputs": [
    {
     "name": "stdout",
     "output_type": "stream",
     "text": [
      "S3 checkpoint file path: s3://sagemaker-ap-southeast-2-019676274883/rl-solarcar-2021-02-24-03-53-51-962/checkpoint/\n"
     ]
    }
   ],
   "source": [
    "if local_mode:\n",
    "    checkpoint_path = 'file://{}'.format(local_checkpoint_dir)\n",
    "    print(\"Local checkpoint file path: {}\".format(local_checkpoint_dir))\n",
    "else:\n",
    "    checkpoint_path = \"s3://{}/{}/checkpoint/\".format(s3_bucket, job_name)\n",
    "    if not os.listdir(local_checkpoint_dir):\n",
    "        raise FileNotFoundError(\"Checkpoint files not found under the path\")\n",
    "    os.system(\"aws s3 cp --recursive {} {}\".format(local_checkpoint_dir, checkpoint_path))\n",
    "    print(\"S3 checkpoint file path: {}\".format(checkpoint_path))"
   ]
  },
  {
   "cell_type": "markdown",
   "metadata": {},
   "source": [
    "# Model deployment\n",
    "\n",
    "Now let us deploy the RL policy so that we can get the optimal action, given an environment observation. \n",
    "\n",
    "Trouble Shooting: if encounter problem of instances limit please come back and clear endpoints.\n",
    "\n",
    "Loading the model into predictor. We will use predictor to predict the action from given observation."
   ]
  },
  {
   "cell_type": "code",
   "execution_count": 18,
   "metadata": {},
   "outputs": [],
   "source": [
    "# estimator.model_data =\n",
    "# role = "
   ]
  },
  {
   "cell_type": "code",
   "execution_count": 20,
   "metadata": {},
   "outputs": [
    {
     "name": "stderr",
     "output_type": "stream",
     "text": [
      "update_endpoint is a no-op in sagemaker>=2.\n",
      "See: https://sagemaker.readthedocs.io/en/stable/v2.html for details.\n"
     ]
    },
    {
     "name": "stdout",
     "output_type": "stream",
     "text": [
      "-------------!"
     ]
    }
   ],
   "source": [
    "from sagemaker.tensorflow.model import TensorFlowModel\n",
    "\n",
    "model = TensorFlowModel(model_data=estimator.model_data,\n",
    "              framework_version='2.1.0',\n",
    "              role=role)\n",
    "\n",
    "predictor = model.deploy(initial_instance_count=1, \n",
    "                         instance_type='ml.m4.xlarge',)"
   ]
  },
  {
   "cell_type": "markdown",
   "metadata": {},
   "source": [
    "Now let us predict the actions using a dummy observation"
   ]
  },
  {
   "cell_type": "code",
   "execution_count": 21,
   "metadata": {},
   "outputs": [
    {
     "data": {
      "text/plain": [
       "{'outputs': {'action_logp': [0.0],\n",
       "  'action_prob': [1.0],\n",
       "  'vf_preds': [63.1483],\n",
       "  'behaviour_logits': [[-0.387050927,\n",
       "    0.249935687,\n",
       "    0.149270773,\n",
       "    -0.11494574,\n",
       "    0.0901589394,\n",
       "    -0.222717956,\n",
       "    -0.300766319,\n",
       "    0.000956379343,\n",
       "    -0.0444840193,\n",
       "    -0.0152243637,\n",
       "    -0.0298270546,\n",
       "    -0.405828685,\n",
       "    -0.0304550435,\n",
       "    0.260118306,\n",
       "    0.167551503,\n",
       "    -0.082584843,\n",
       "    0.0938704908,\n",
       "    0.105107881,\n",
       "    0.119761,\n",
       "    0.1863866]],\n",
       "  'actions': [13]}}"
      ]
     },
     "execution_count": 21,
     "metadata": {},
     "output_type": "execute_result"
    }
   ],
   "source": [
    "# the below input is an example of observation\n",
    "input = {\"inputs\": {'observations': [[1.82170394e+07, 0.00000000e+00, 3.60634351e+01, 1.08236378e+00, 6.00000000e+01]],\n",
    "                    'prev_action': 0,\n",
    "                    'is_training': False,\n",
    "                    'prev_reward': 0,\n",
    "                    'seq_lens': 3000\n",
    "                   }\n",
    "            }\n",
    "# predictor is an agent\n",
    "result = predictor.predict(input)\n",
    "\n",
    "# preview of the results\n",
    "result"
   ]
  },
  {
   "cell_type": "markdown",
   "metadata": {},
   "source": [
    "From the observation above, we can see that the action number 1"
   ]
  },
  {
   "cell_type": "code",
   "execution_count": 22,
   "metadata": {},
   "outputs": [
    {
     "data": {
      "text/plain": [
       "13"
      ]
     },
     "execution_count": 22,
     "metadata": {},
     "output_type": "execute_result"
    }
   ],
   "source": [
    "# example observation\n",
    "obs = [[1.82170394e+07, 0.00000000e+00, 3.60634351e+01, 1.08236378e+00, 6.00000000e+01]]\n",
    "\n",
    "# example input\n",
    "input = {\"inputs\": {'observations': obs,\n",
    "                    'prev_action': 16,\n",
    "                    'is_training': False,\n",
    "                    'prev_reward': 66,\n",
    "                    'seq_lens': -1\n",
    "                   }\n",
    "            }\n",
    "\n",
    "# example predicted action\n",
    "predictor.predict(input)['outputs']['actions'][0]"
   ]
  },
  {
   "cell_type": "markdown",
   "metadata": {},
   "source": [
    "In the cell below, we will create a validation environment to check the performance of model. "
   ]
  },
  {
   "cell_type": "code",
   "execution_count": null,
   "metadata": {},
   "outputs": [],
   "source": [
    "import math\n",
    "import random\n",
    "import datetime\n",
    "\n",
    "from datetime import timedelta\n",
    "from solarcar_env_nogym import *\n",
    "import pprint\n",
    "\n",
    "# import pandas as pd\n",
    "\n",
    "# new environment is car, this environment from solarcar_env_nogym.\n",
    "car = SolarCarEnv()\n",
    "\n",
    "# reser the environment, get initial observation\n",
    "car.reset()\n",
    "input = {\"inputs\": {'observations': [car.reset().tolist()],\n",
    "                    'prev_action': 0,\n",
    "                    'is_training': False,\n",
    "                    'prev_reward': 0,\n",
    "                    'seq_lens': -1\n",
    "                   }\n",
    "            }\n",
    "exp = []\n",
    "done = False\n",
    "rewards = 0\n",
    "while not done:\n",
    "#for i in range(6):\n",
    "    obs, reward, done, info = car.step(predictor.predict(input)['outputs']['actions'][0])\n",
    "    rewards += reward\n",
    "    input = {\"inputs\": {'observations': [obs.tolist()],\n",
    "                    'prev_action': predictor.predict(input)['outputs']['actions'][0],\n",
    "                    'is_training': False,\n",
    "                    'prev_reward': rewards,\n",
    "                    'seq_lens': -1\n",
    "                   }\n",
    "            }\n",
    "    \n",
    "    exp.append(info.copy())"
   ]
  },
  {
   "cell_type": "markdown",
   "metadata": {},
   "source": [
    "Now we can check the performance at the very end of the race and plot the battery used during the race. "
   ]
  },
  {
   "cell_type": "code",
   "execution_count": null,
   "metadata": {},
   "outputs": [],
   "source": [
    "exp[-1]"
   ]
  },
  {
   "cell_type": "code",
   "execution_count": null,
   "metadata": {},
   "outputs": [],
   "source": [
    "import matplotlib.pyplot as plt\n",
    "df = pd.read_csv('historical_sample.csv')\n",
    "#p_batt = [exp[i]['p_batt'] for i in range(len(exp))]\n",
    "#p_sun = [exp[i]['p_sun'] for i in range(len(exp))]\n",
    "batterypower = [exp[i]['battery_joules_left']/3600 for i in range(len(exp))]\n",
    "#plt.plot(p_batt, label = \"Power in battery\")\n",
    "#plt.plot(p_sun, label = \"power from the sun\")\n",
    "plt.figure(figsize = (20,6))\n",
    "#t = df['batterypower']*3600\n",
    "#t.plot(figsize = (20,6), label = \"battery voltage original\")\n",
    "plt.plot(batterypower, label = \"Battery power agent\")\n",
    "#plt.plot(t, label = \"battery voltage original\")\n",
    "plt.legend()\n",
    "plt.title('Battery Power (trained by CPU)')\n",
    "\n",
    "plt.show()"
   ]
  },
  {
   "cell_type": "markdown",
   "metadata": {},
   "source": [
    "Plot the agent's speed and the orginal speed."
   ]
  },
  {
   "cell_type": "code",
   "execution_count": null,
   "metadata": {},
   "outputs": [],
   "source": [
    "agent_speed = [exp[i]['vehicle speed'] for i in range(len(exp))]\n",
    "plt.figure(figsize = (20,5))\n",
    "original_speed = df['vehiclevelocity']*3.6\n",
    "original_speed.plot(figsize = (20,6), label = \"Vehicle speed original\")\n",
    "plt.plot(agent_speed, label = 'Agent speed')\n",
    "plt.legend()\n",
    "plt.title('Agent speed vs original speed')\n",
    "plt.show()"
   ]
  },
  {
   "cell_type": "markdown",
   "metadata": {},
   "source": [
    "### Clean up endpoint"
   ]
  },
  {
   "cell_type": "code",
   "execution_count": 80,
   "metadata": {},
   "outputs": [],
   "source": [
    "predictor.delete_endpoint()"
   ]
  }
 ],
 "metadata": {
  "anaconda-cloud": {},
  "kernelspec": {
   "display_name": "conda_amazonei_tensorflow_p36",
   "language": "python",
   "name": "conda_amazonei_tensorflow_p36"
  },
  "language_info": {
   "codemirror_mode": {
    "name": "ipython",
    "version": 3
   },
   "file_extension": ".py",
   "mimetype": "text/x-python",
   "name": "python",
   "nbconvert_exporter": "python",
   "pygments_lexer": "ipython3",
   "version": "3.6.10"
  },
  "notice": "Copyright 2018 Amazon.com, Inc. or its affiliates. All Rights Reserved. Licensed under the Apache License, Version 2.0 (the \"License\"). You may not use this file except in compliance with the License. A copy of the License is located at http://aws.amazon.com/apache2.0/ or in the \"license\" file accompanying this file. This file is distributed on an \"AS IS\" BASIS, WITHOUT WARRANTIES OR CONDITIONS OF ANY KIND, either express or implied. See the License for the specific language governing permissions and limitations under the License."
 },
 "nbformat": 4,
 "nbformat_minor": 4
}
